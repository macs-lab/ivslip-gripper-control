{
 "cells": [
  {
   "cell_type": "code",
   "execution_count": 1,
   "metadata": {},
   "outputs": [],
   "source": [
    "import pysindy as ps\n",
    "import numpy as np \n",
    "import pandas as pd \n",
    "import os"
   ]
  },
  {
   "cell_type": "code",
   "execution_count": 3,
   "metadata": {},
   "outputs": [],
   "source": [
    "df = pd.read_csv(\"./csv files/final_csv.csv\")\n",
    "\n",
    "time = df['t_list']\n",
    "time = np.array(time)\n",
    "\n",
    "V_net = df['V_net']\n",
    "div = df['div']\n",
    "delta_div = df['delta_div']\n",
    "curl = df['curl']\n",
    "delta_curl = df['delta_curl']\n",
    "theta = df['theta']\n",
    "delta_theta = df['delta_theta']\n",
    "area = df['percent_contact']\n",
    "delta_area = df['delta_area']\n",
    "slip_score = df['slip_score']"
   ]
  },
  {
   "cell_type": "code",
   "execution_count": 4,
   "metadata": {},
   "outputs": [
    {
     "data": {
      "text/plain": [
       "(2153,)"
      ]
     },
     "execution_count": 4,
     "metadata": {},
     "output_type": "execute_result"
    }
   ],
   "source": [
    "time.shape"
   ]
  },
  {
   "cell_type": "code",
   "execution_count": 9,
   "metadata": {},
   "outputs": [
    {
     "name": "stdout",
     "output_type": "stream",
     "text": [
      "(285, 8)\n"
     ]
    }
   ],
   "source": [
    "X = np.stack((slip_score, V_net, div, delta_div, curl, delta_curl, area, delta_area))\n",
    "X = X.T\n",
    "print(X.shape)\n",
    "u = df['del_g']"
   ]
  },
  {
   "cell_type": "code",
   "execution_count": 10,
   "metadata": {},
   "outputs": [
    {
     "name": "stdout",
     "output_type": "stream",
     "text": [
      "(s)' = -0.986 s + 4.641 d + 0.703 dd + -1.335 c + 0.488 dc + -6.591 a + 0.333 da + -0.410 u + -2.278 d^2 + -0.955 dd^2 + 35.388 c^2 + 2.202 dc^2 + 5.745 a^2 + 0.414 da^2 + -0.410 u^2\n",
      "(v)' = 4.933 1 + -2.398 s + -0.792 v + -64.813 d + -10.947 dd + -72.625 c + -4.203 dc + 118.336 a + 3.436 da + -0.231 u + 1.612 s^2 + 51.320 d^2 + 5.526 dd^2 + -1059.459 c^2 + 36.906 dc^2 + -98.183 a^2 + 0.753 da^2 + -0.231 u^2\n",
      "(d)' = 0.291 dd + -0.118 dc + 0.129 dd^2 + 0.150 dc^2\n",
      "(dd)' = 0.068 1 + -1.135 s + -0.174 v + -0.524 d + -1.912 dd + 9.507 c + -3.541 dc + -0.282 a + 0.372 da + 0.203 s^2 + 1.315 dd^2 + 5.783 dc^2 + 0.313 da^2\n",
      "(c)' = 0.426 dc\n",
      "(dc)' = 0.433 1 + -9.871 d + 0.452 dd + -8.321 c + 1.838 dc + 20.027 a + 0.115 da + 0.304 u + 7.135 d^2 + -0.148 dd^2 + -148.129 c^2 + -1.143 dc^2 + -17.077 a^2 + -0.164 da^2 + 0.304 u^2\n",
      "(a)' = 0.361 d + 0.201 c + -0.162 a + 0.327 da + -0.139 d^2 + -0.443 a^2\n",
      "(da)' = -0.224 s + 13.235 d + -1.224 dd + 5.789 c + -0.991 dc + -18.182 a + 0.632 da + 0.239 u + -6.248 d^2 + 0.549 dd^2 + 56.904 c^2 + -1.230 dc^2 + 6.145 a^2 + -0.124 da^2 + 0.239 u^2\n"
     ]
    }
   ],
   "source": [
    "model = ps.SINDy(feature_names=[\"s\", \"v\", \"d\", \"dd\", \"c\", \"dc\", \"a\", \"da\",\"u\"], feature_library=ps.PolynomialLibrary(include_interaction=False))\n",
    "model.fit(x=X, u=u, t=time)\n",
    "model.print()"
   ]
  },
  {
   "cell_type": "code",
   "execution_count": 5,
   "metadata": {},
   "outputs": [
    {
     "name": "stdout",
     "output_type": "stream",
     "text": [
      "(2153, 6)\n",
      "(s)' = -0.260 s + -0.821 d + -0.217 dd + 7.687 c + 0.858 dc + 0.441 da + 0.106 s^2 + 0.615 d^2 + -32.975 c^2 + 1.523 dc^2\n",
      "(d)' = 0.282 d + 0.519 dd + -1.013 c + -0.299 d^2 + 2.561 c^2\n",
      "(dd)' = 1.569 1 + 6.792 s + -5.190 d + 0.741 dd + -62.548 c + 0.576 dc + -0.170 u + -1.586 s^2 + -0.370 d^2 + 217.915 c^2 + 0.876 dc^2\n",
      "(c)' = -0.099 c + 0.466 dc + -0.523 c^2\n",
      "(dc)' = 0.240 1 + 0.689 s + -0.221 d + -13.049 c + 0.640 dc + -0.174 s^2 + 33.345 c^2 + 0.224 dc^2\n",
      "(da)' = 1.561 1 + 5.628 s + -5.843 d + 0.533 dd + -53.088 c + 0.132 da + -0.348 u + -1.513 s^2 + 1.063 d^2 + 194.185 c^2 + 0.145 dc^2\n"
     ]
    }
   ],
   "source": [
    "X = np.stack((slip_score, div, delta_div, curl, delta_curl, delta_area))\n",
    "X = X.T\n",
    "print(X.shape)\n",
    "u = df['del_g']\n",
    "model = ps.SINDy(feature_names=[\"s\", \"d\", \"dd\", \"c\", \"dc\", \"da\",\"u\"], feature_library=ps.PolynomialLibrary(include_interaction=False))\n",
    "model.fit(x=X, u=u, t=time)\n",
    "model.print()"
   ]
  }
 ],
 "metadata": {
  "kernelspec": {
   "display_name": "Python 3",
   "language": "python",
   "name": "python3"
  },
  "language_info": {
   "codemirror_mode": {
    "name": "ipython",
    "version": 3
   },
   "file_extension": ".py",
   "mimetype": "text/x-python",
   "name": "python",
   "nbconvert_exporter": "python",
   "pygments_lexer": "ipython3",
   "version": "3.10.7"
  }
 },
 "nbformat": 4,
 "nbformat_minor": 2
}
